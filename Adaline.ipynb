{
 "cells": [
  {
   "cell_type": "markdown",
   "metadata": {
    "slideshow": {
     "slide_type": "slide"
    }
   },
   "source": [
    "# Adaline Network dan Delta Rule\n",
    "\n",
    "* ADALINE = Adaptive Linear Element\n",
    "* Dibuat oleh Widrow dan Hoff tahun 1960 untuk rangkaian switch pada jaringan telepon\n",
    "* Merupakan aplikasi pertama neural network yang efektiv pada industri\n",
    "* Terdiri dari satu layer yang terdiri dari 1 neuron\n",
    "* Sebagaimana perceptron, merupakan pengklasifikasi biner ( 2 kelas berbeda)\n",
    "* Metode Pembelajaran: Delta Rule"
   ]
  },
  {
   "cell_type": "markdown",
   "metadata": {
    "slideshow": {
     "slide_type": "slide"
    }
   },
   "source": [
    "\\begin{figure}[h!]\n",
    "\\notag\n",
    "\\centering\n",
    "\\includegraphics{gambar/perceptron_vs_adaline.png}\n",
    "\\caption{Perceptron dan Adaline}\n",
    "\\end{figure}"
   ]
  },
  {
   "cell_type": "markdown",
   "metadata": {
    "slideshow": {
     "slide_type": "slide"
    }
   },
   "source": [
    "Perbedaan dengan perceptron:\n",
    "\n",
    "* output pada perceptron adalah kelas label target ( output dari fungsi step yang menjadi fungsi aktivasi) sedangkan pada adaline adalah bilangan real\n",
    "* Update bobot dengan menghitung keseluruhan sampel input pada data training)\n"
   ]
  },
  {
   "cell_type": "markdown",
   "metadata": {
    "slideshow": {
     "slide_type": "slide"
    }
   },
   "source": [
    "Penghitungan output y adalah sebagai berikut:\n",
    "\n",
    "$$\n",
    "\\notag\n",
    "\\begin{aligned}\n",
    "u &= \\sum_{i=1}^nw_i\\cdot x_i-\\theta \\\\\n",
    "y &= g(u)\n",
    "\\end{aligned}\n",
    "$$\n",
    "\n",
    "&nbsp;&nbsp;&nbsp;&nbsp;&nbsp;&nbsp;$x_i$ adalah sinyal input dari ADALINE, <br>\n",
    "&nbsp;&nbsp;&nbsp;&nbsp;&nbsp;&nbsp;$w_i$ adalah bobot sinapsis terkait dengan input ke $i$ <br>\n",
    "&nbsp;&nbsp;&nbsp;&nbsp;&nbsp;&nbsp;$\\theta$ adalah threshold aktivasi atau bias<br>\n",
    "&nbsp;&nbsp;&nbsp;&nbsp;&nbsp;&nbsp;$g(.)$ adalah fungsi aktivasi<br>\n",
    "&nbsp;&nbsp;&nbsp;&nbsp;&nbsp;&nbsp;u adalah potensial aktivasi"
   ]
  },
  {
   "cell_type": "markdown",
   "metadata": {
    "slideshow": {
     "slide_type": "slide"
    }
   },
   "source": [
    "### Delta Rule\n",
    "**Delta Rule atau Widrow-Hoff Rule juga dikenal sebagai algoritma LMS (Least Mean Square) atau metode Gradient Descent**\n",
    "___\n",
    "** Prinsip algoritma:**\n",
    "\n",
    "* meminimalisir difference target dan output\n",
    "* memperhatikan seluruh sampel input p untuk memperbaiki nilai bobot dan bias dari neuron dengan menghitung mean squared error (MSE) antara target (d) dengan output (u)        \n",
    "* disebut cost function(fungsi biaya)\n",
    "$$\n",
    "\\\\\n",
    "\\bar{E}(w) = \\frac{1}{p}\\sum_{k=1}^{p}\\big(d^{(k)}-u\\big)^2\\\\\n",
    "$$\n"
   ]
  },
  {
   "cell_type": "markdown",
   "metadata": {
    "slideshow": {
     "slide_type": "slide"
    }
   },
   "source": [
    "* Algoritma berkonvergensi jika selisih mean squared error dari dua epoch berturutan cukup kecil: \n",
    "$$\n",
    "\\\\\n",
    "|\\bar{E}(w^{sekarang}) - \\bar{E}(w^{sebelumnya}) \\leq \\varepsilon\n",
    "\\\\\n",
    "$$\n",
    "di mana $\\varepsilon$ adalah konstanta pembatas\n",
    "* Update bobot dan bias pada adaline network:\n",
    "$$\n",
    "\\\\\n",
    "\\\\\n",
    "\\begin{aligned}\n",
    "\\mathbf{w} \\gets \\mathbf{w} + \\eta \\cdot (d^{(k)}-u) \\cdot \\mathbf{x}^{(k)}, \\text{dengan } k = 1 \\dots p \\\\\n",
    "\\end{aligned}\n",
    "\\\\\n",
    "$$\n",
    "$\\mathbf{w} = \\begin{bmatrix}\n",
    "       {\\theta}&w_1 & w_2 & \\dots w_n \\end{bmatrix}^T$ adalah vektor berisi bias dan bobot \n",
    "$\\mathbf{x}^{(k)} = \\begin{bmatrix}\n",
    "       {-1} &x_1^{(k)} & x_2^{(k)} & \\dots x_n^{(k)} \\end{bmatrix}^T$ adalah vektor input dengan sampel sebanyak k       \n",
    "$d^{(k)}$ adalah target output yang diharapkan<br>\n",
    "$u$ adalah output yang dihasilkan Adaline elemen<br>\n",
    "$\\eta$ adalah **learning rate**, yaitu konstanta untuk menentukan seberapa cepat proses training menuju kestabilan. Biasanya $\\eta$ didefinisikan dalam nilai $0 < \\eta < 1$"
   ]
  },
  {
   "cell_type": "markdown",
   "metadata": {
    "slideshow": {
     "slide_type": "slide"
    }
   },
   "source": [
    "![Interpretasi Geometrik dari delta rule](gambar/deltarule1.png)"
   ]
  },
  {
   "cell_type": "markdown",
   "metadata": {
    "slideshow": {
     "slide_type": "slide"
    }
   },
   "source": [
    "### Algoritma Fase Training Delta Rule\n",
    "![training](gambar/alg_train_adaline.png)"
   ]
  },
  {
   "cell_type": "markdown",
   "metadata": {
    "slideshow": {
     "slide_type": "slide"
    }
   },
   "source": [
    "### Algoritma fungsi untuk menghitung MSE\n",
    "![](gambar/alg_mse_adaline.png)"
   ]
  },
  {
   "cell_type": "markdown",
   "metadata": {
    "slideshow": {
     "slide_type": "slide"
    }
   },
   "source": [
    "### Algoritma Untuk prediksi/klasifikasi\n",
    "![](gambar/alg_prediksi_adaline.png)"
   ]
  },
  {
   "cell_type": "markdown",
   "metadata": {
    "slideshow": {
     "slide_type": "slide"
    }
   },
   "source": [
    "### Ilustrasi training proses pada adaline\n",
    "![](gambar/trainprosesadaline.png)"
   ]
  },
  {
   "cell_type": "markdown",
   "metadata": {
    "slideshow": {
     "slide_type": "slide"
    }
   },
   "source": [
    "### MSE vs Epoch pada Delta Rule\n",
    "* MSE semakin kecil dengan bertambahnya epoch\n",
    "* Jika sampai pada poin minimum, MSE menjadi konstan\n",
    "![](gambar/mse_epoch.png)"
   ]
  },
  {
   "cell_type": "markdown",
   "metadata": {
    "slideshow": {
     "slide_type": "slide"
    }
   },
   "source": [
    "### Perbandingan Perceptron dengan Adaline\n",
    "![](gambar/perceptronadaline1.png)"
   ]
  },
  {
   "cell_type": "markdown",
   "metadata": {
    "slideshow": {
     "slide_type": "slide"
    }
   },
   "source": [
    "Perceptron vs Adaline pada data dengan noise\n",
    "![](gambar/perceptronadaline2.png)"
   ]
  },
  {
   "cell_type": "markdown",
   "metadata": {
    "slideshow": {
     "slide_type": "slide"
    }
   },
   "source": [
    "### Implementasi Adaline dalam python\n",
    "___\n"
   ]
  },
  {
   "cell_type": "code",
   "execution_count": 19,
   "metadata": {
    "slideshow": {
     "slide_type": "subslide"
    }
   },
   "outputs": [],
   "source": [
    "import numpy as np\n",
    "\n",
    "class AdalineGD(object):\n",
    "\n",
    "    def __init__(self, eta=0.01, epochs=50):\n",
    "        '''\n",
    "        Inisialisasi learning rate (eta), epoch, dan bobot awal\n",
    "        '''\n",
    "        self.eta = eta \n",
    "        self.epochs = epochs\n",
    "        self.w_ = np.zeros(1 + X.shape[1])\n",
    "        # Bobot awal = vektor dengan isi nol\n",
    "        # X.shape[1] berarti banyaknya input x1 sd xn\n",
    "        # ditambahkan satu item di depan untuk bias\n",
    "\n",
    "    def train(self, X, y):\n",
    "        self.cost_ = []  # Deklarasi array untuk menyimpan nilai fungsi biaya\n",
    "        print(self.w_) #sekedar untuk mengetahui bobot awal\n",
    "\n",
    "        for i in range(self.epochs):\n",
    "            output = self.net_input(X)\n",
    "            errors = (y - output)\n",
    "            self.w_[1:] += self.eta * X.T.dot(errors)\n",
    "            self.w_[0] += self.eta * errors.sum()\n",
    "            cost = (errors**2).sum() / 100.0\n",
    "            self.cost_.append(cost)\n",
    "        return self\n",
    "\n",
    "    def net_input(self, X):\n",
    "        return np.dot(X, self.w_[1:]) - self.w_[0]\n",
    "\n",
    "    def activation(self, X):\n",
    "        return self.net_input(X)\n",
    "\n",
    "    def predict(self, X):\n",
    "        return np.where(self.activation(X) >= 0.0, 1, -1)\n"
   ]
  },
  {
   "cell_type": "code",
   "execution_count": 20,
   "metadata": {
    "slideshow": {
     "slide_type": "slide"
    }
   },
   "outputs": [
    {
     "name": "stdout",
     "output_type": "stream",
     "text": [
      "     0    1    2    3            4\n",
      "0  5.1  3.5  1.4  0.2  Iris-setosa\n",
      "1  4.9  3.0  1.4  0.2  Iris-setosa\n",
      "2  4.7  3.2  1.3  0.2  Iris-setosa\n",
      "3  4.6  3.1  1.5  0.2  Iris-setosa\n",
      "4  5.0  3.6  1.4  0.2  Iris-setosa\n",
      "5  5.4  3.9  1.7  0.4  Iris-setosa\n",
      "6  4.6  3.4  1.4  0.3  Iris-setosa\n",
      "7  5.0  3.4  1.5  0.2  Iris-setosa\n",
      "8  4.4  2.9  1.4  0.2  Iris-setosa\n",
      "9  4.9  3.1  1.5  0.1  Iris-setosa\n",
      "[-1 -1 -1 -1 -1 -1 -1 -1 -1 -1]\n",
      "[[5.1 1.4]\n",
      " [4.9 1.4]\n",
      " [4.7 1.3]\n",
      " [4.6 1.5]\n",
      " [5.  1.4]\n",
      " [5.4 1.7]\n",
      " [4.6 1.4]\n",
      " [5.  1.5]\n",
      " [4.4 1.4]\n",
      " [4.9 1.5]]\n"
     ]
    }
   ],
   "source": [
    "import pandas as pd\n",
    "\n",
    "df = pd.read_csv('iris.data', header=None)\n",
    "print(df[:10])\n",
    "# setosa and versicolor\n",
    "y = df.iloc[0:100, 4].values\n",
    "y = np.where(y == 'Iris-setosa', -1, 1)\n",
    "print(y[:10])\n",
    "# sepal length and petal length\n",
    "X = df.iloc[0:100, [0,2]].values\n",
    "print(X[:10])"
   ]
  },
  {
   "cell_type": "markdown",
   "metadata": {
    "slideshow": {
     "slide_type": "slide"
    }
   },
   "source": [
    "## Eksekusi Program dengan Learning Rate Berbeda\n",
    "___\n",
    "1. Dengan Learning Rate 0,01"
   ]
  },
  {
   "cell_type": "code",
   "execution_count": 21,
   "metadata": {
    "slideshow": {
     "slide_type": "fragment"
    }
   },
   "outputs": [
    {
     "name": "stdout",
     "output_type": "stream",
     "text": [
      "[0. 0. 0.]\n"
     ]
    },
    {
     "data": {
      "image/png": "[encoded data removed]",
      "text/plain": [
       "<Figure size 432x288 with 1 Axes>"
      ]
     },
     "metadata": {
      "needs_background": "light"
     },
     "output_type": "display_data"
    }
   ],
   "source": [
    "import matplotlib.pyplot as plt\n",
    "\n",
    "ada = AdalineGD(epochs=15, eta=0.01).train(X, y)\n",
    "plt.plot(range(1, len(ada.cost_)+1), np.log10(ada.cost_), marker='o')\n",
    "plt.xlabel('Iterations')\n",
    "plt.ylabel('log(Sum-squared-error)')\n",
    "plt.title('Adaline - Learning rate 0.01')\n",
    "plt.show()"
   ]
  },
  {
   "cell_type": "markdown",
   "metadata": {
    "slideshow": {
     "slide_type": "subslide"
    }
   },
   "source": [
    "2. Dengan Learning Rate 0.0001"
   ]
  },
  {
   "cell_type": "code",
   "execution_count": 22,
   "metadata": {
    "slideshow": {
     "slide_type": "fragment"
    }
   },
   "outputs": [
    {
     "name": "stdout",
     "output_type": "stream",
     "text": [
      "[0. 0. 0.]\n"
     ]
    },
    {
     "data": {
      "image/png": "[encoded data removed]",
      "text/plain": [
       "<Figure size 432x288 with 1 Axes>"
      ]
     },
     "metadata": {
      "needs_background": "light"
     },
     "output_type": "display_data"
    }
   ],
   "source": [
    "ada = AdalineGD(epochs=15, eta=0.0001).train(X, y)\n",
    "plt.plot(range(1, len(ada.cost_)+1), ada.cost_, marker='o')\n",
    "plt.xlabel('Iterations')\n",
    "plt.ylabel('Sum-squared-error')\n",
    "plt.title('Adaline - Learning rate 0.0001')\n",
    "plt.show()"
   ]
  },
  {
   "cell_type": "markdown",
   "metadata": {
    "slideshow": {
     "slide_type": "slide"
    }
   },
   "source": [
    "###  Kesimpulan: Pengaruh Learning Rate pada gradient descent\n",
    "___\n",
    "* Learning Rate menentukan kecepatan mencapai konvergensi \n",
    "* Jika Learning rate terlalu besar, gradient descent bisa melewati minima, dan justru bisa mengalami divergensi (gagal mendapatkan error terendah)\n",
    "* Jika Learning Rate terlalu kecil, algoritma akan lambat mencapai konvergen\n",
    "    - bahkan ada kemungkinan terjebak pada minima lokal"
   ]
  },
  {
   "cell_type": "markdown",
   "metadata": {
    "slideshow": {
     "slide_type": "slide"
    }
   },
   "source": [
    "**Pengaruh Learning Rate**\n",
    "___\n",
    "\n",
    "\\begin{figure}[h!]\n",
    "\\centering\n",
    "\\includegraphics{gambar/learning_rate.png}\n",
    "\\caption{Pengaruh Learning Rate}\n",
    "\\end{figure}"
   ]
  },
  {
   "cell_type": "markdown",
   "metadata": {
    "slideshow": {
     "slide_type": "slide"
    }
   },
   "source": [
    "### Standarisasi / Normalisasi\n",
    "___\n",
    "* Perlu untuk menyamakan skala data pada algoritma machine learning\n",
    "    - memudahkan menentukan learning rate yang sesuai\n",
    "    - mempercepat konvergensi\n",
    "    - mencegah bobot menjadi terlalu kecil\n",
    "    "
   ]
  },
  {
   "cell_type": "markdown",
   "metadata": {
    "slideshow": {
     "slide_type": "slide"
    }
   },
   "source": [
    "Salah satu metode normalisasi yang umum digunakan:\n",
    "\n",
    "$$\n",
    "\\\\\n",
    "\\mathbf{x}_{j,dinormalisasi}=\\frac{\\mathbf{x}_j-\\mu_j}{\\sigma_j}\n",
    "\\\\\n",
    "$$\n",
    "\n",
    "di mana $\\mu_j$ adalah rata-rata (mean) dari fitur $\\mathbf{x}_j$, dan\n",
    "$\\sigma_j$ adalah standard deviasi dari fitur $\\mathbf{x}_j$\n"
   ]
  },
  {
   "cell_type": "code",
   "execution_count": 23,
   "metadata": {
    "slideshow": {
     "slide_type": "slide"
    }
   },
   "outputs": [
    {
     "name": "stdout",
     "output_type": "stream",
     "text": [
      "[[-0.5810659  -1.01435952]\n",
      " [-0.89430898 -1.01435952]\n",
      " [-1.20755205 -1.08374115]\n",
      " [-1.36417359 -0.94497788]\n",
      " [-0.73768744 -1.01435952]\n",
      " [-0.11120129 -0.80621461]\n",
      " [-1.36417359 -1.01435952]\n",
      " [-0.73768744 -0.94497788]\n",
      " [-1.67741667 -1.01435952]\n",
      " [-0.89430898 -0.94497788]]\n"
     ]
    }
   ],
   "source": [
    "# Normalisasi Iris Data di atas\n",
    "X_norm = np.copy(X) # membuat copy baru untuk array input X\n",
    "\n",
    "#Normalisasi untuk x1 => ingat, array mulai index 0 !!\n",
    "X_norm[:,0] = (X[:,0] - X[:,0].mean()) / X[:,0].std()\n",
    "\n",
    "#Normalisasi untuk x2\n",
    "X_norm[:,1] = (X[:,1] - X[:,1].mean()) / X[:,1].std()\n",
    "\n",
    "print(X_norm[:10])"
   ]
  },
  {
   "cell_type": "code",
   "execution_count": 24,
   "metadata": {
    "slideshow": {
     "slide_type": "slide"
    }
   },
   "outputs": [
    {
     "name": "stdout",
     "output_type": "stream",
     "text": [
      "[0. 0. 0.]\n"
     ]
    },
    {
     "data": {
      "image/png": "[encoded data removed]",
      "text/plain": [
       "<Figure size 432x288 with 1 Axes>"
      ]
     },
     "metadata": {
      "needs_background": "light"
     },
     "output_type": "display_data"
    },
    {
     "data": {
      "image/png": "[encoded data removed]",
      "text/plain": [
       "<Figure size 432x288 with 1 Axes>"
      ]
     },
     "metadata": {
      "needs_background": "light"
     },
     "output_type": "display_data"
    }
   ],
   "source": [
    "#ADALINE yang sama diterapkan pada data yang dinormalisasi\n",
    "\n",
    "%matplotlib inline\n",
    "import matplotlib.pyplot as plt\n",
    "from mlxtend.plotting import plot_decision_regions\n",
    "\n",
    "ada = AdalineGD(epochs=15, eta=0.01)\n",
    "\n",
    "ada.train(X_norm, y)\n",
    "plot_decision_regions(X_norm, y, clf=ada)\n",
    "plt.title('Adaline - Gradient Descent')\n",
    "plt.xlabel('sepal length [ternormalisasi]')\n",
    "plt.ylabel('petal length [ternormalisasi]')\n",
    "plt.show()\n",
    "\n",
    "plt.plot(range(1, len( ada.cost_)+1), ada.cost_, marker='o')\n",
    "plt.xlabel('Iterasi')\n",
    "plt.ylabel(' MSE (Mean-squared-error)')\n",
    "plt.show()\n"
   ]
  },
  {
   "cell_type": "markdown",
   "metadata": {
    "slideshow": {
     "slide_type": "slide"
    }
   },
   "source": [
    "**Pergerakan gradient terhadap epochs pada adaline**\n",
    "___\n",
    "\n",
    "\\begin{figure}[h!]\n",
    "\\centering\n",
    "\\includegraphics{gambar/adaline_animation.gif}\n",
    "\\caption{Pergerakan gradient untuk klasifikasi Data Iris}\n",
    "\\end{figure}"
   ]
  },
  {
   "cell_type": "markdown",
   "metadata": {},
   "source": [
    "## Tugas: Ubah adaline di atas, dengan pembatasan berdasarkan konstanta $\\varepsilon$"
   ]
  },
  {
   "cell_type": "code",
   "execution_count": null,
   "metadata": {},
   "outputs": [],
   "source": []
  }
 ],
 "metadata": {
  "celltoolbar": "Slideshow",
  "kernelspec": {
   "display_name": "Python 3",
   "language": "python",
   "name": "python3"
  },
  "language_info": {
   "codemirror_mode": {
    "name": "ipython",
    "version": 3
   },
   "file_extension": ".py",
   "mimetype": "text/x-python",
   "name": "python",
   "nbconvert_exporter": "python",
   "pygments_lexer": "ipython3",
   "version": "3.7.1"
  },
  "latex_envs": {
   "LaTeX_envs_menu_present": true,
   "autoclose": false,
   "autocomplete": true,
   "bibliofile": "biblio.bib",
   "cite_by": "apalike",
   "current_citInitial": 1,
   "eqLabelWithNumbers": true,
   "eqNumInitial": 1,
   "hotkeys": {
    "equation": "Ctrl-E",
    "itemize": "Ctrl-I"
   },
   "labels_anchors": false,
   "latex_user_defs": true,
   "report_style_numbering": false,
   "user_envs_cfg": false
  },
  "livereveal": {
   "scroll": true
  },
  "toc": {
   "base_numbering": 1,
   "nav_menu": {},
   "number_sections": true,
   "sideBar": true,
   "skip_h1_title": false,
   "title_cell": "Table of Contents",
   "title_sidebar": "Contents",
   "toc_cell": false,
   "toc_position": {},
   "toc_section_display": true,
   "toc_window_display": false
  }
 },
 "nbformat": 4,
 "nbformat_minor": 2
}
