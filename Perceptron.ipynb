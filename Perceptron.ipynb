{
 "cells": [
  {
   "cell_type": "markdown",
   "metadata": {
    "slideshow": {
     "slide_type": "slide"
    }
   },
   "source": [
    "# Perceptron\n",
    "Model Neural Networ pertama yang dikembangkan oleh Rosenblatt. Perceptron dari Rosenblatt ini sangat sederhana, hanya terdiri dari satu layer yang berisi satu neuron.\n",
    "![Single Layer Perceptron](gambar/perceptronrosenblatt.png \"Title\")"
   ]
  },
  {
   "cell_type": "markdown",
   "metadata": {
    "slideshow": {
     "slide_type": "slide"
    }
   },
   "source": [
    "$$\n",
    "\\begin{aligned}\n",
    "u &= \\sum_{i=1}^n{w_i.x_i-\\theta} \\\\\n",
    "y &= g(u)\n",
    "\\end{aligned}\n",
    "$$\n",
    "Di mana :\n",
    "* $x_i$ adalah input, \n",
    "* $w_i$ adalah bobot terhadap masing-masing input, \n",
    "* $\\theta$ adalah threshold aktivasi atau bias, \n",
    "* $g(.)$ adalah fungsi aktivasi\n",
    "* $u$ adalah potensial aktivasi\n",
    "\n",
    "Sebagai fungsi aktivasi berupa fungsi step dengan output 0 atau 1 untuk unipolar, jika menggunakan bipolar step function, output adaah -1 atau 1"
   ]
  },
  {
   "cell_type": "code",
   "execution_count": null,
   "metadata": {},
   "outputs": [],
   "source": []
  },
  {
   "cell_type": "code",
   "execution_count": 1,
   "metadata": {
    "slideshow": {
     "slide_type": "slide"
    }
   },
   "outputs": [
    {
     "name": "stdout",
     "output_type": "stream",
     "text": [
      "[0 0] 0\n",
      "[0 1] 0\n",
      "[1 0] 0\n",
      "[1 1] 1\n"
     ]
    }
   ],
   "source": [
    "#Python kode fungsi OR dengan perceptron\n",
    "\n",
    "import numpy as np\n",
    "class Perceptron:\n",
    "    \n",
    "    def __init__(self, input_length, weights=None):\n",
    "        if weights is None:\n",
    "            self.weights = np.ones(input_length) * 0.5\n",
    "        else:\n",
    "            self.weights = weights\n",
    "        \n",
    "    def unit_step_function(x):\n",
    "        if x > 0.5:\n",
    "            return 1\n",
    "        return 0\n",
    "        \n",
    "    def __call__(self, in_data):\n",
    "        weighted_input = self.weights * in_data\n",
    "        weighted_sum = weighted_input.sum()\n",
    "        return Perceptron.unit_step_function(weighted_sum)\n",
    "    \n",
    "p = Perceptron(2, np.array([0.5, 0.5]))\n",
    "for x in [np.array([0, 0]), np.array([0, 1]), \n",
    "          np.array([1, 0]), np.array([1, 1])]:\n",
    "    y = p(np.array(x))\n",
    "    print(x, y)\n",
    "    "
   ]
  },
  {
   "cell_type": "markdown",
   "metadata": {
    "slideshow": {
     "slide_type": "slide"
    }
   },
   "source": [
    "## Algoritma Pembelajaran Perceptron\n",
    "* Contoh di atas belum menunjukkan pembelajaran pada perceptron\n",
    "    - Kita langsung inisialisasi bobot dengan tepat  \n",
    "    - Perceptron kita di atas hanya memproses input untuk menghasilkan output\n",
    "* Algoritma pembelajaran perceptron menggunakan Hebb's rule:\n",
    "    - Jika output yang dihasilkan Pereceptron sama dengan target output yang diharapkan, bobot dan bias(threshold) tidak berubah\n",
    "    - Jika output berbeda dengan target, bobot dari sinapsis dan bias diubah secara proporsional terhadap sinyal input\n",
    "    - proses diulang hingga seluruh output sesuai target\n",
    "      "
   ]
  },
  {
   "cell_type": "markdown",
   "metadata": {
    "slideshow": {
     "slide_type": "notes"
    }
   },
   "source": [
    "![hebb](gambar/pembelajaranperceptron.png)"
   ]
  },
  {
   "cell_type": "markdown",
   "metadata": {
    "slideshow": {
     "slide_type": "slide"
    }
   },
   "source": [
    "$$\n",
    "\\begin{aligned}\n",
    "w_i^{sekarang} &= w_i^{sebelumnya} + (d^{(k)}-y) \\cdot x_i^{(k)} \\\\\n",
    "\\theta _i^{sekarang} &= \\theta_i^{sebelumnya} + (d^{(k)}-y)\\cdot{(-1)}\n",
    "\\end{aligned}\n",
    "$$\n",
    "\n",
    "Dalam bentuk vektor input dan bias:\n",
    "\n",
    "$$\n",
    "\\begin{aligned}\n",
    "\\mathbf{w}_i^{sekarang} &= \\mathbf{w}_i^{sebelumnya} + \\eta \\cdot (d^{(k)}-y) \\cdot \\mathbf{x}_i^{(k)} \\\\\n",
    "\\end{aligned}\n",
    "$$\n"
   ]
  },
  {
   "cell_type": "markdown",
   "metadata": {
    "slideshow": {
     "slide_type": "slide"
    }
   },
   "source": [
    "Atau kalau dituliskan dalam format algoritma: \n",
    "\n",
    "$$\n",
    "\\begin{aligned}\n",
    "\\mathbf{w} \\gets \\mathbf{w} + \\eta \\cdot (d^{(k)}-y) \\cdot \\mathbf{x}_i^{(k)} \\\\\n",
    "\\end{aligned}\n",
    "$$\n",
    "\n",
    "$\\mathbf{w} = \\begin{bmatrix}\n",
    "       {\\theta}&w_1 & w_2 & \\dots w_n \\end{bmatrix}^T$ adalah vektor berisi bias dan bobot \n",
    "      \n",
    "$\\mathbf{x}^{(k)} = \\begin{bmatrix}\n",
    "       {-1} &x_1^{(k)} & x_2^{(k)} & \\dots x_n^{(k)} \\end{bmatrix}^T$ adalah vektor input\n",
    "       \n",
    "$d^{(k)}$ adalah target output yang diharapkan\n",
    "\n",
    "$y$ adalah output yang dihasilkan Perceptron\n",
    "\n",
    "$\\eta$ adalah **learning rate**, yaitu konstanta untuk menentukan seberapa cepat proses training menuju kestabilan. Biasanya $\\eta$ didefinisikan dalam nilai $0 < \\eta < 1$"
   ]
  },
  {
   "cell_type": "markdown",
   "metadata": {
    "slideshow": {
     "slide_type": "slide"
    }
   },
   "source": [
    "### Fase Training\n",
    "\n",
    "![Algoritma Training](gambar/algotrainingperceptron.png)   \n"
   ]
  },
  {
   "cell_type": "markdown",
   "metadata": {},
   "source": [
    "### Fase pengoperasian (klasifikasi)\n",
    "![Algoritma Training](gambar/algo_operasiperceptron.png)   "
   ]
  },
  {
   "cell_type": "markdown",
   "metadata": {
    "cell_style": "center",
    "slideshow": {
     "slide_type": "slide"
    }
   },
   "source": [
    "# Melatih perceptron untuk melakukan klasifikasi\n",
    "A|B\n",
    "---|---\n",
    "![alt](gambar/trainklasifikasip.png)\n"
   ]
  },
  {
   "cell_type": "code",
   "execution_count": 9,
   "metadata": {
    "cell_style": "center",
    "slideshow": {
     "slide_type": "slide"
    }
   },
   "outputs": [],
   "source": [
    "import numpy as np\n",
    "\n",
    "class Perceptron(object):\n",
    "    '''Ini adalah kelas untuk implementasi Perceptron'''\n",
    "    def __init__(self,input_size,lr=1, epochs=1000):\n",
    "        self.Bobot = np.zeros(input_size+1) #ditambah satu untuk bias\n",
    "        self.epochs = epochs\n",
    "        self.lr = lr\n",
    "    \n",
    "    def fungsi_aktivasi(self,x):\n",
    "        return 1 if x >= 0 else 0\n",
    "    \n",
    "    def prediksi(self,x):\n",
    "        z = self.Bobot.T.dot(x)\n",
    "        a = self.fungsi_aktivasi(z)\n",
    "        return a\n",
    "    \n",
    "    def train(self,Xinput, target):\n",
    "        for _ in range(self.epochs):\n",
    "            for i in range(target.shape[0]):\n",
    "                x = np.insert(Xinput[i],0,1)\n",
    "                y = self.prediksi(x)\n",
    "                error = target[i] - y\n",
    "                self.Bobot = self.Bobot + self.lr*error*x"
   ]
  },
  {
   "cell_type": "markdown",
   "metadata": {
    "slideshow": {
     "slide_type": "slide"
    }
   },
   "source": [
    "## Mencoba Perceptron untuk AND"
   ]
  },
  {
   "cell_type": "code",
   "execution_count": 33,
   "metadata": {
    "scrolled": false,
    "slideshow": {
     "slide_type": "slide"
    }
   },
   "outputs": [
    {
     "name": "stdout",
     "output_type": "stream",
     "text": [
      "[-3.  2.  1.]\n"
     ]
    }
   ],
   "source": [
    "X = np.array([\n",
    "        [0, 0],\n",
    "        [0, 1],\n",
    "        [1, 0],\n",
    "        [1, 1]\n",
    "    ])\n",
    "d = np.array([0, 0, 0, 1])\n",
    "\n",
    "perceptron = Perceptron(input_size=2)\n",
    "perceptron.train(X, d)\n",
    "print(perceptron.Bobot)"
   ]
  },
  {
   "cell_type": "markdown",
   "metadata": {
    "slideshow": {
     "slide_type": "slide"
    }
   },
   "source": [
    "* Bobot [-3, 2, 1] berarti \n",
    "    - bias = -3, \n",
    "    - bobot 1 = 2, dan \n",
    "    - bobot 2 = 1\n",
    "* Jika dihitung, untuk input [0,0] maka z = -3, yang berarti prediksi = 0"
   ]
  },
  {
   "cell_type": "code",
   "execution_count": 38,
   "metadata": {
    "slideshow": {
     "slide_type": "skip"
    }
   },
   "outputs": [
    {
     "name": "stdout",
     "output_type": "stream",
     "text": [
      "Input:  1 1 1\n"
     ]
    },
    {
     "data": {
      "text/plain": [
       "1"
      ]
     },
     "execution_count": 38,
     "metadata": {},
     "output_type": "execute_result"
    }
   ],
   "source": [
    "# Preidiksi dengan input x1 = 0, x2 = 0 \n",
    "# vektor input => [bias x1 x2]\n",
    "\n",
    "input1 = np.array([1,1,1])\n",
    "print(\"Input: \",*input1)\n",
    "perceptron.prediksi(input1)"
   ]
  },
  {
   "cell_type": "code",
   "execution_count": 31,
   "metadata": {
    "slideshow": {
     "slide_type": "skip"
    }
   },
   "outputs": [],
   "source": [
    "X = np.array([\n",
    "        [0, 0],\n",
    "        [0, 1],\n",
    "        [1, 0],\n",
    "        [1, 1]\n",
    "    ])"
   ]
  },
  {
   "cell_type": "code",
   "execution_count": 32,
   "metadata": {
    "slideshow": {
     "slide_type": "skip"
    }
   },
   "outputs": [
    {
     "name": "stdout",
     "output_type": "stream",
     "text": [
      "1 0 0\n",
      "1 0 1\n",
      "1 1 0\n",
      "1 1 1\n"
     ]
    }
   ],
   "source": [
    "X\n",
    "print(*np.insert(X[0],0,1))\n",
    "print(*np.insert(X[1],0,1))\n",
    "print(*np.insert(X[2],0,1))\n",
    "print(*np.insert(X[3],0,1))"
   ]
  },
  {
   "cell_type": "code",
   "execution_count": 18,
   "metadata": {},
   "outputs": [
    {
     "data": {
      "text/plain": [
       "array([1, 0, 0])"
      ]
     },
     "execution_count": 18,
     "metadata": {},
     "output_type": "execute_result"
    }
   ],
   "source": []
  },
  {
   "cell_type": "code",
   "execution_count": null,
   "metadata": {},
   "outputs": [],
   "source": []
  }
 ],
 "metadata": {
  "celltoolbar": "Slideshow",
  "kernelspec": {
   "display_name": "Python 3",
   "language": "python",
   "name": "python3"
  },
  "language_info": {
   "codemirror_mode": {
    "name": "ipython",
    "version": 3
   },
   "file_extension": ".py",
   "mimetype": "text/x-python",
   "name": "python",
   "nbconvert_exporter": "python",
   "pygments_lexer": "ipython3",
   "version": "3.7.1"
  },
  "latex_envs": {
   "LaTeX_envs_menu_present": true,
   "autoclose": false,
   "autocomplete": true,
   "bibliofile": "biblio.bib",
   "cite_by": "apalike",
   "current_citInitial": 1,
   "eqLabelWithNumbers": true,
   "eqNumInitial": 1,
   "hotkeys": {
    "equation": "Ctrl-E",
    "itemize": "Ctrl-I"
   },
   "labels_anchors": false,
   "latex_user_defs": false,
   "report_style_numbering": false,
   "user_envs_cfg": false
  },
  "livereveal": {
   "scroll": true
  },
  "toc": {
   "base_numbering": 1,
   "nav_menu": {},
   "number_sections": true,
   "sideBar": true,
   "skip_h1_title": false,
   "title_cell": "Table of Contents",
   "title_sidebar": "Contents",
   "toc_cell": false,
   "toc_position": {},
   "toc_section_display": true,
   "toc_window_display": false
  }
 },
 "nbformat": 4,
 "nbformat_minor": 2
}
